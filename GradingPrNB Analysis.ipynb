{
 "cells": [
  {
   "cell_type": "code",
   "execution_count": 124,
   "metadata": {
    "collapsed": true,
    "ExecuteTime": {
     "start_time": "2023-05-25T15:27:29.250666Z",
     "end_time": "2023-05-25T15:27:29.461783Z"
    }
   },
   "outputs": [],
   "source": [
    "import numpy as np\n",
    "import pandas as pd\n",
    "import seaborn as sns\n",
    "import matplotlib.pyplot as plt\n",
    "from sklearn.preprocessing import RobustScaler"
   ]
  },
  {
   "cell_type": "markdown",
   "source": [
    "importing and cleaning data"
   ],
   "metadata": {
    "collapsed": false
   }
  },
  {
   "cell_type": "code",
   "execution_count": 118,
   "outputs": [],
   "source": [
    "df = pd.read_csv(\"Data/GradersPerformanceBhmnSfnd.csv\")\n",
    "df = df[['ScorerId','AssessmentRunId','SpecifiefTime','ScoringTime','ConfirmStatusId']]\n",
    "df.rename(columns={'ScorerId':'ScorerID','AssessmentRunId':'AssessmentID','SpecifiefTime':'IdealTime','ScoringTime':'Elapsed','ConfirmStatusId':'isConfirmed'},inplace=True)"
   ],
   "metadata": {
    "collapsed": false,
    "ExecuteTime": {
     "start_time": "2023-05-25T15:25:04.517153Z",
     "end_time": "2023-05-25T15:25:04.726911Z"
    }
   }
  },
  {
   "cell_type": "markdown",
   "source": [
    "calculating speed"
   ],
   "metadata": {
    "collapsed": false
   }
  },
  {
   "cell_type": "code",
   "execution_count": 119,
   "outputs": [],
   "source": [
    "df['Speed'] = 1 - df['Elapsed']/df['IdealTime']"
   ],
   "metadata": {
    "collapsed": false,
    "ExecuteTime": {
     "start_time": "2023-05-25T15:25:05.059659Z",
     "end_time": "2023-05-25T15:25:05.084426Z"
    }
   }
  },
  {
   "cell_type": "code",
   "execution_count": 120,
   "outputs": [],
   "source": [
    "df_pivot = df.pivot_table(index='ScorerID',columns='isConfirmed',values='AssessmentID',aggfunc='count')\n",
    "df_pivot.fillna(0,inplace=True)"
   ],
   "metadata": {
    "collapsed": false,
    "ExecuteTime": {
     "start_time": "2023-05-25T15:25:05.631598Z",
     "end_time": "2023-05-25T15:25:05.662687Z"
    }
   }
  },
  {
   "cell_type": "markdown",
   "source": [
    "Making tables each method of scoring"
   ],
   "metadata": {
    "collapsed": false
   }
  },
  {
   "cell_type": "code",
   "execution_count": 121,
   "outputs": [],
   "source": [
    "original_df_pivot = df_pivot.copy()\n",
    "robust_df_pivot = df_pivot.copy()"
   ],
   "metadata": {
    "collapsed": false,
    "ExecuteTime": {
     "start_time": "2023-05-25T15:25:08.426267Z",
     "end_time": "2023-05-25T15:25:08.444690Z"
    }
   }
  },
  {
   "cell_type": "markdown",
   "source": [
    "First method is quite simple, we just calculate each scorer's parameters, and then we normalize and scale them to be between 0 and 100"
   ],
   "metadata": {
    "collapsed": false
   }
  },
  {
   "cell_type": "code",
   "execution_count": 123,
   "outputs": [],
   "source": [
    "# Calculating the scaled zscore of each column\n",
    "# Speed\n",
    "original_df_pivot['Speed'] = df.groupby('ScorerID')['Speed'].mean()\n",
    "original_df_pivot['Speed'].fillna(0,inplace=True)\n",
    "original_df_pivot['Speed_zscore'] = (original_df_pivot['Speed']-original_df_pivot['Speed'].mean())/original_df_pivot['Speed'].std()\n",
    "original_df_pivot['Speed_zscore_scaled'] = (original_df_pivot['Speed_zscore']-original_df_pivot['Speed_zscore'].min())/(original_df_pivot['Speed_zscore'].max()-original_df_pivot['Speed_zscore'].min())*100\n",
    "# Accuracy (zscore is not necessary since the accuracy is scaled between 0 and 100 itself)\n",
    "original_df_pivot['Accuracy'] = df_pivot[1]/(df_pivot[0]+df_pivot[1]) * 100\n",
    "# Experience\n",
    "SumConfirms_mean = df_pivot[1].mean()\n",
    "SumConfirms_std = df_pivot[1].std()\n",
    "original_df_pivot['Experience'] = (df_pivot[1]-SumConfirms_mean)/SumConfirms_std\n",
    "original_df_pivot['Experience_zscore_scaled'] = (original_df_pivot['Experience']-original_df_pivot['Experience'].min())/(original_df_pivot['Experience'].max()-original_df_pivot['Experience'].min())*100"
   ],
   "metadata": {
    "collapsed": false,
    "ExecuteTime": {
     "start_time": "2023-05-25T15:26:33.200758Z",
     "end_time": "2023-05-25T15:26:33.213075Z"
    }
   }
  },
  {
   "cell_type": "markdown",
   "source": [
    "Second method is a bit more complicated, we use the RobustScaler because of the various outliers in the data, then we clip the values to be between 0 and 100"
   ],
   "metadata": {
    "collapsed": false
   }
  },
  {
   "cell_type": "code",
   "execution_count": 132,
   "outputs": [],
   "source": [
    "# preparing the RobustScaler\n",
    "scaler = RobustScaler()\n",
    "# Speed\n",
    "robust_df_pivot['Speed'] = df.groupby('ScorerID')['Speed'].mean()\n",
    "robust_df_pivot['Speed'].fillna(0,inplace=True)\n",
    "speed_fit_scaled = scaler.fit_transform(robust_df_pivot[['Speed']])\n",
    "speed_fit_scaled = np.clip(speed_fit_scaled,-1,1)\n",
    "speed_fit_scaled = 50 + speed_fit_scaled*50\n",
    "robust_df_pivot['Speed_robust_scaled'] = speed_fit_scaled\n",
    "\n",
    "# Accuracy\n",
    "robust_df_pivot['Accuracy'] = df_pivot[1]/(df_pivot[0]+df_pivot[1]) * 100\n",
    "\n",
    "# Experience\n",
    "experience_fit_scaled = scaler.fit_transform(robust_df_pivot[[1]])\n",
    "experience_fit_scaled = np.clip(experience_fit_scaled,-1,1)\n",
    "experience_fit_scaled = 50 + experience_fit_scaled*50\n",
    "robust_df_pivot['Experience_robust_scaled'] = experience_fit_scaled"
   ],
   "metadata": {
    "collapsed": false,
    "ExecuteTime": {
     "start_time": "2023-05-25T15:43:54.153938Z",
     "end_time": "2023-05-25T15:43:54.174913Z"
    }
   }
  },
  {
   "cell_type": "markdown",
   "source": [
    "Now we give weight to each parameter"
   ],
   "metadata": {
    "collapsed": false
   }
  },
  {
   "cell_type": "code",
   "execution_count": 139,
   "outputs": [],
   "source": [
    "Accuracy_weight = 0.6\n",
    "Experience_weight = 0.1\n",
    "Speed_weight= 0.3"
   ],
   "metadata": {
    "collapsed": false,
    "ExecuteTime": {
     "start_time": "2023-05-25T15:58:48.310643Z",
     "end_time": "2023-05-25T15:58:48.323673Z"
    }
   }
  },
  {
   "cell_type": "markdown",
   "source": [
    "At last we calculate the final score"
   ],
   "metadata": {
    "collapsed": false
   }
  },
  {
   "cell_type": "code",
   "execution_count": 136,
   "outputs": [
    {
     "data": {
      "text/plain": "isConfirmed           0             1       Speed  Speed_robust_scaled  \\\ncount        800.000000    800.000000  800.000000           800.000000   \nmean           5.436250    454.382500   -1.864347            41.620210   \nstd           21.182642   1550.772671    5.513103            27.498584   \nmin            0.000000      0.000000 -110.600000             0.000000   \n25%            0.000000      6.000000   -1.978571            15.258316   \n50%            0.000000     33.500000   -0.582925            50.000000   \n75%            2.000000    199.250000    0.030034            65.258316   \nmax          277.000000  21865.000000    0.825000            85.047312   \n\nisConfirmed    Accuracy  Experience_robust_scaled  FinalScore  \\\ncount        800.000000                800.000000  800.000000   \nmean          98.303550                 63.195990   77.787792   \nstd            7.414903                 23.833865   11.075352   \nmin            0.000000                 41.332471    4.133247   \n25%           99.192508                 42.884864   68.582937   \n50%          100.000000                 50.000000   80.231364   \n75%          100.000000                 92.884864   87.050121   \nmax          100.000000                100.000000   94.248759   \n\nisConfirmed  FinalScore_Alireza  \ncount                800.000000  \nmean                  73.198247  \nstd                   12.921112  \nmin                    6.199871  \n25%                   61.563518  \n50%                   75.466853  \n75%                   84.359620  \nmax                   93.290219  ",
      "text/html": "<div>\n<style scoped>\n    .dataframe tbody tr th:only-of-type {\n        vertical-align: middle;\n    }\n\n    .dataframe tbody tr th {\n        vertical-align: top;\n    }\n\n    .dataframe thead th {\n        text-align: right;\n    }\n</style>\n<table border=\"1\" class=\"dataframe\">\n  <thead>\n    <tr style=\"text-align: right;\">\n      <th>isConfirmed</th>\n      <th>0</th>\n      <th>1</th>\n      <th>Speed</th>\n      <th>Speed_robust_scaled</th>\n      <th>Accuracy</th>\n      <th>Experience_robust_scaled</th>\n      <th>FinalScore</th>\n      <th>FinalScore_Alireza</th>\n    </tr>\n  </thead>\n  <tbody>\n    <tr>\n      <th>count</th>\n      <td>800.000000</td>\n      <td>800.000000</td>\n      <td>800.000000</td>\n      <td>800.000000</td>\n      <td>800.000000</td>\n      <td>800.000000</td>\n      <td>800.000000</td>\n      <td>800.000000</td>\n    </tr>\n    <tr>\n      <th>mean</th>\n      <td>5.436250</td>\n      <td>454.382500</td>\n      <td>-1.864347</td>\n      <td>41.620210</td>\n      <td>98.303550</td>\n      <td>63.195990</td>\n      <td>77.787792</td>\n      <td>73.198247</td>\n    </tr>\n    <tr>\n      <th>std</th>\n      <td>21.182642</td>\n      <td>1550.772671</td>\n      <td>5.513103</td>\n      <td>27.498584</td>\n      <td>7.414903</td>\n      <td>23.833865</td>\n      <td>11.075352</td>\n      <td>12.921112</td>\n    </tr>\n    <tr>\n      <th>min</th>\n      <td>0.000000</td>\n      <td>0.000000</td>\n      <td>-110.600000</td>\n      <td>0.000000</td>\n      <td>0.000000</td>\n      <td>41.332471</td>\n      <td>4.133247</td>\n      <td>6.199871</td>\n    </tr>\n    <tr>\n      <th>25%</th>\n      <td>0.000000</td>\n      <td>6.000000</td>\n      <td>-1.978571</td>\n      <td>15.258316</td>\n      <td>99.192508</td>\n      <td>42.884864</td>\n      <td>68.582937</td>\n      <td>61.563518</td>\n    </tr>\n    <tr>\n      <th>50%</th>\n      <td>0.000000</td>\n      <td>33.500000</td>\n      <td>-0.582925</td>\n      <td>50.000000</td>\n      <td>100.000000</td>\n      <td>50.000000</td>\n      <td>80.231364</td>\n      <td>75.466853</td>\n    </tr>\n    <tr>\n      <th>75%</th>\n      <td>2.000000</td>\n      <td>199.250000</td>\n      <td>0.030034</td>\n      <td>65.258316</td>\n      <td>100.000000</td>\n      <td>92.884864</td>\n      <td>87.050121</td>\n      <td>84.359620</td>\n    </tr>\n    <tr>\n      <th>max</th>\n      <td>277.000000</td>\n      <td>21865.000000</td>\n      <td>0.825000</td>\n      <td>85.047312</td>\n      <td>100.000000</td>\n      <td>100.000000</td>\n      <td>94.248759</td>\n      <td>93.290219</td>\n    </tr>\n  </tbody>\n</table>\n</div>"
     },
     "execution_count": 136,
     "metadata": {},
     "output_type": "execute_result"
    }
   ],
   "source": [
    "robust_df_pivot['FinalScore'] = robust_df_pivot['Speed_robust_scaled']*Speed_weight + robust_df_pivot['Accuracy']*Accuracy_weight + robust_df_pivot['Experience_robust_scaled']*Experience_weight\n",
    "robust_df_pivot.describe()"
   ],
   "metadata": {
    "collapsed": false,
    "ExecuteTime": {
     "start_time": "2023-05-25T15:47:41.541505Z",
     "end_time": "2023-05-25T15:47:41.563240Z"
    }
   }
  },
  {
   "cell_type": "markdown",
   "source": [
    "Now we normalize and scale the final score to be between 0 and 100"
   ],
   "metadata": {
    "collapsed": false
   }
  },
  {
   "cell_type": "code",
   "execution_count": 138,
   "outputs": [
    {
     "data": {
      "text/plain": "isConfirmed           0             1       Speed  Speed_zscore  \\\ncount        800.000000    800.000000  800.000000  8.000000e+02   \nmean           5.436250    454.382500   -1.864347 -5.721118e-17   \nstd           21.182642   1550.772671    5.513103  1.000000e+00   \nmin            0.000000      0.000000 -110.600000 -1.972313e+01   \n25%            0.000000      6.000000   -1.978571 -2.071877e-02   \n50%            0.000000     33.500000   -0.582925  2.324321e-01   \n75%            2.000000    199.250000    0.030034  3.436143e-01   \nmax          277.000000  21865.000000    0.825000  4.878100e-01   \n\nisConfirmed  Speed_zscore_scaled    Accuracy    Experience  \\\ncount                 800.000000  800.000000  8.000000e+02   \nmean                   97.586406   98.303550  2.775558e-19   \nstd                     4.947815    7.414903  1.000000e+00   \nmin                     0.000000    0.000000 -2.930039e-01   \n25%                    97.483894   99.192508 -2.891349e-01   \n50%                    98.736437  100.000000 -2.714018e-01   \n75%                    99.286546  100.000000 -1.645196e-01   \nmax                   100.000000  100.000000  1.380642e+01   \n\nisConfirmed  Experience_zscore_scaled  FinalScore  FinalScore_Alireza  \ncount                      800.000000  800.000000          800.000000  \nmean                         2.078127   88.465865           83.618736  \nstd                          7.092489    4.777389            4.290579  \nmin                          0.000000   28.756563           33.549323  \n25%                          0.027441   88.683817           83.656846  \n50%                          0.153213   89.405365           84.360086  \n75%                          0.911274   89.768291           84.768124  \nmax                        100.000000   99.552301           99.607637  ",
      "text/html": "<div>\n<style scoped>\n    .dataframe tbody tr th:only-of-type {\n        vertical-align: middle;\n    }\n\n    .dataframe tbody tr th {\n        vertical-align: top;\n    }\n\n    .dataframe thead th {\n        text-align: right;\n    }\n</style>\n<table border=\"1\" class=\"dataframe\">\n  <thead>\n    <tr style=\"text-align: right;\">\n      <th>isConfirmed</th>\n      <th>0</th>\n      <th>1</th>\n      <th>Speed</th>\n      <th>Speed_zscore</th>\n      <th>Speed_zscore_scaled</th>\n      <th>Accuracy</th>\n      <th>Experience</th>\n      <th>Experience_zscore_scaled</th>\n      <th>FinalScore</th>\n      <th>FinalScore_Alireza</th>\n    </tr>\n  </thead>\n  <tbody>\n    <tr>\n      <th>count</th>\n      <td>800.000000</td>\n      <td>800.000000</td>\n      <td>800.000000</td>\n      <td>8.000000e+02</td>\n      <td>800.000000</td>\n      <td>800.000000</td>\n      <td>8.000000e+02</td>\n      <td>800.000000</td>\n      <td>800.000000</td>\n      <td>800.000000</td>\n    </tr>\n    <tr>\n      <th>mean</th>\n      <td>5.436250</td>\n      <td>454.382500</td>\n      <td>-1.864347</td>\n      <td>-5.721118e-17</td>\n      <td>97.586406</td>\n      <td>98.303550</td>\n      <td>2.775558e-19</td>\n      <td>2.078127</td>\n      <td>88.465865</td>\n      <td>83.618736</td>\n    </tr>\n    <tr>\n      <th>std</th>\n      <td>21.182642</td>\n      <td>1550.772671</td>\n      <td>5.513103</td>\n      <td>1.000000e+00</td>\n      <td>4.947815</td>\n      <td>7.414903</td>\n      <td>1.000000e+00</td>\n      <td>7.092489</td>\n      <td>4.777389</td>\n      <td>4.290579</td>\n    </tr>\n    <tr>\n      <th>min</th>\n      <td>0.000000</td>\n      <td>0.000000</td>\n      <td>-110.600000</td>\n      <td>-1.972313e+01</td>\n      <td>0.000000</td>\n      <td>0.000000</td>\n      <td>-2.930039e-01</td>\n      <td>0.000000</td>\n      <td>28.756563</td>\n      <td>33.549323</td>\n    </tr>\n    <tr>\n      <th>25%</th>\n      <td>0.000000</td>\n      <td>6.000000</td>\n      <td>-1.978571</td>\n      <td>-2.071877e-02</td>\n      <td>97.483894</td>\n      <td>99.192508</td>\n      <td>-2.891349e-01</td>\n      <td>0.027441</td>\n      <td>88.683817</td>\n      <td>83.656846</td>\n    </tr>\n    <tr>\n      <th>50%</th>\n      <td>0.000000</td>\n      <td>33.500000</td>\n      <td>-0.582925</td>\n      <td>2.324321e-01</td>\n      <td>98.736437</td>\n      <td>100.000000</td>\n      <td>-2.714018e-01</td>\n      <td>0.153213</td>\n      <td>89.405365</td>\n      <td>84.360086</td>\n    </tr>\n    <tr>\n      <th>75%</th>\n      <td>2.000000</td>\n      <td>199.250000</td>\n      <td>0.030034</td>\n      <td>3.436143e-01</td>\n      <td>99.286546</td>\n      <td>100.000000</td>\n      <td>-1.645196e-01</td>\n      <td>0.911274</td>\n      <td>89.768291</td>\n      <td>84.768124</td>\n    </tr>\n    <tr>\n      <th>max</th>\n      <td>277.000000</td>\n      <td>21865.000000</td>\n      <td>0.825000</td>\n      <td>4.878100e-01</td>\n      <td>100.000000</td>\n      <td>100.000000</td>\n      <td>1.380642e+01</td>\n      <td>100.000000</td>\n      <td>99.552301</td>\n      <td>99.607637</td>\n    </tr>\n  </tbody>\n</table>\n</div>"
     },
     "execution_count": 138,
     "metadata": {},
     "output_type": "execute_result"
    }
   ],
   "source": [
    "original_df_pivot['FinalScore'] = original_df_pivot['Speed_zscore_scaled']*Speed_weight + original_df_pivot['Accuracy']*Accuracy_weight + original_df_pivot['Experience_zscore_scaled']*Experience_weight\n",
    "original_df_pivot.describe()"
   ],
   "metadata": {
    "collapsed": false,
    "ExecuteTime": {
     "start_time": "2023-05-25T15:53:37.335862Z",
     "end_time": "2023-05-25T15:53:37.363057Z"
    }
   }
  },
  {
   "cell_type": "code",
   "execution_count": 95,
   "outputs": [],
   "source": [],
   "metadata": {
    "collapsed": false,
    "ExecuteTime": {
     "start_time": "2023-05-25T14:29:32.325619Z",
     "end_time": "2023-05-25T14:29:32.330003Z"
    }
   }
  }
 ],
 "metadata": {
  "kernelspec": {
   "display_name": "Python 3",
   "language": "python",
   "name": "python3"
  },
  "language_info": {
   "codemirror_mode": {
    "name": "ipython",
    "version": 2
   },
   "file_extension": ".py",
   "mimetype": "text/x-python",
   "name": "python",
   "nbconvert_exporter": "python",
   "pygments_lexer": "ipython2",
   "version": "2.7.6"
  }
 },
 "nbformat": 4,
 "nbformat_minor": 0
}
