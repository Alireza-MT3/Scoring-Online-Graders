{
 "cells": [
  {
   "cell_type": "code",
   "execution_count": 1,
   "metadata": {
    "collapsed": true,
    "ExecuteTime": {
     "start_time": "2023-05-25T12:19:26.397956Z",
     "end_time": "2023-05-25T12:19:26.445439Z"
    }
   },
   "outputs": [],
   "source": [
    "import numpy as np\n",
    "import pandas as pd\n",
    "import seaborn as sns"
   ]
  },
  {
   "cell_type": "markdown",
   "source": [
    "### Importing and cleaning data"
   ],
   "metadata": {
    "collapsed": false
   }
  },
  {
   "cell_type": "code",
   "execution_count": 2,
   "outputs": [],
   "source": [
    "df = pd.read_csv(\"GradersPerformanceBhmnSfnd.csv\")\n",
    "df = df[['ScorerId','ScorerReviewId','SpecifiefTime','ScoringTime','ConfirmStatusId']]\n",
    "df.rename(columns={'ScorerId':'ScorerID','ScorerReviewId':'ScorerReviewID','SpecifiefTime':'IdealTime','ScoringTime':'Elapsed','ConfirmStatusId':'isConfirmed'},inplace=True)"
   ],
   "metadata": {
    "collapsed": false,
    "ExecuteTime": {
     "start_time": "2023-05-25T12:19:26.438594Z",
     "end_time": "2023-05-25T12:19:26.641500Z"
    }
   }
  },
  {
   "cell_type": "markdown",
   "source": [
    "### Calculating speed"
   ],
   "metadata": {
    "collapsed": false
   }
  },
  {
   "cell_type": "code",
   "execution_count": 3,
   "outputs": [],
   "source": [
    "df['Speed'] = 1 - df['Elapsed']/df['IdealTime']"
   ],
   "metadata": {
    "collapsed": false,
    "ExecuteTime": {
     "start_time": "2023-05-25T12:19:26.642869Z",
     "end_time": "2023-05-25T12:19:26.646128Z"
    }
   }
  },
  {
   "cell_type": "code",
   "execution_count": 4,
   "outputs": [],
   "source": [
    "df_pivot = df.pivot_table(index='ScorerID',columns='isConfirmed',values='ScorerReviewID',aggfunc='count')\n",
    "df_pivot.fillna(0,inplace=True)"
   ],
   "metadata": {
    "collapsed": false,
    "ExecuteTime": {
     "start_time": "2023-05-25T12:59:42.670732Z",
     "end_time": "2023-05-25T12:59:42.694192Z"
    }
   }
  },
  {
   "cell_type": "code",
   "execution_count": 5,
   "outputs": [
    {
     "data": {
      "text/plain": "count    8.000000e+02\nmean    -2.244038e-16\nstd      1.000000e+00\nmin     -4.871093e-01\n25%     -4.871093e-01\n50%     -4.871093e-01\n75%     -3.043772e-01\nmax      4.532301e+00\nName: Speed_zscore, dtype: float64"
     },
     "execution_count": 5,
     "metadata": {},
     "output_type": "execute_result"
    }
   ],
   "source": [
    "df_pivot['Speed'] = df.groupby('ScorerID')['Speed'].mean()\n",
    "df_pivot['Speed'].fillna(0,inplace=True)\n",
    "df_pivot['Speed'] = df_pivot['Speed'].apply(lambda x: x if x>0 else 0)\n",
    "df_pivot['Speed_zscore'] = (df_pivot['Speed']-df_pivot['Speed'].mean())/df_pivot['Speed'].std()\n",
    "df_pivot['Speed_zscore_scaled'] = (df_pivot['Speed_zscore']-df_pivot['Speed_zscore'].min())/(df_pivot['Speed_zscore'].max()-df_pivot['Speed_zscore'].min())*100\n",
    "df_pivot['Speed_zscore'].describe()"
   ],
   "metadata": {
    "collapsed": false,
    "ExecuteTime": {
     "start_time": "2023-05-25T13:00:05.721116Z",
     "end_time": "2023-05-25T13:00:05.732826Z"
    }
   }
  },
  {
   "cell_type": "code",
   "execution_count": 6,
   "outputs": [],
   "source": [
    "df_pivot['Accuracy'] = df_pivot[1]/(df_pivot[0]+df_pivot[1]) * 100\n",
    "Accuracy_mean = df_pivot['Accuracy'].mean()\n",
    "Accuracy_std = df_pivot['Accuracy'].std()\n",
    "df_pivot['Accuracy_zscore'] = (df_pivot['Accuracy']-Accuracy_mean)/Accuracy_std"
   ],
   "metadata": {
    "collapsed": false,
    "ExecuteTime": {
     "start_time": "2023-05-25T13:03:00.613031Z",
     "end_time": "2023-05-25T13:03:00.624013Z"
    }
   }
  },
  {
   "cell_type": "markdown",
   "source": [
    "#### A description of the skewness and kurtosis of the data"
   ],
   "metadata": {
    "collapsed": false
   }
  },
  {
   "cell_type": "code",
   "execution_count": 7,
   "outputs": [
    {
     "name": "stdout",
     "output_type": "stream",
     "text": [
      "-9.092329637772492 100.0027942624753\n"
     ]
    }
   ],
   "source": [
    "print(df_pivot['Accuracy_zscore'].skew() , df_pivot['Accuracy_zscore'].kurt())"
   ],
   "metadata": {
    "collapsed": false,
    "ExecuteTime": {
     "start_time": "2023-05-25T13:00:26.839445Z",
     "end_time": "2023-05-25T13:00:26.852812Z"
    }
   }
  },
  {
   "cell_type": "code",
   "execution_count": 8,
   "outputs": [
    {
     "data": {
      "text/plain": "count    8.000000e+02\nmean    -1.523431e-14\nstd      1.000000e+00\nmin     -1.325756e+01\n25%      1.198881e-01\n50%      2.287893e-01\n75%      2.287893e-01\nmax      2.287893e-01\nName: Accuracy_zscore, dtype: float64"
     },
     "execution_count": 8,
     "metadata": {},
     "output_type": "execute_result"
    }
   ],
   "source": [
    "df_pivot['Accuracy_zscore'].describe()"
   ],
   "metadata": {
    "collapsed": false,
    "ExecuteTime": {
     "start_time": "2023-05-25T13:00:27.119211Z",
     "end_time": "2023-05-25T13:00:27.137946Z"
    }
   }
  },
  {
   "cell_type": "markdown",
   "source": [
    "### Same for Experience"
   ],
   "metadata": {
    "collapsed": false
   }
  },
  {
   "cell_type": "code",
   "execution_count": 9,
   "outputs": [
    {
     "data": {
      "text/plain": "count    8.000000e+02\nmean     2.775558e-19\nstd      1.000000e+00\nmin     -2.930039e-01\n25%     -2.891349e-01\n50%     -2.714018e-01\n75%     -1.645196e-01\nmax      1.380642e+01\nName: Experience_zscore, dtype: float64"
     },
     "execution_count": 9,
     "metadata": {},
     "output_type": "execute_result"
    }
   ],
   "source": [
    "NofAllConfirms_mean = df_pivot[1].mean()\n",
    "NofAllConfirms_std = df_pivot[1].std()\n",
    "df_pivot['Experience_zscore'] = (df_pivot[1]-NofAllConfirms_mean)/NofAllConfirms_std\n",
    "df_pivot['Experience_zscore_scaled'] = (df_pivot['Experience_zscore']-df_pivot['Experience_zscore'].min())/(df_pivot['Experience_zscore'].max()-df_pivot['Experience_zscore'].min())*100\n",
    "df_pivot['Experience_zscore'].describe()"
   ],
   "metadata": {
    "collapsed": false,
    "ExecuteTime": {
     "start_time": "2023-05-25T13:01:02.382859Z",
     "end_time": "2023-05-25T13:01:02.395997Z"
    }
   }
  },
  {
   "cell_type": "markdown",
   "source": [
    "### Now we give weight to each parameter"
   ],
   "metadata": {
    "collapsed": false
   }
  },
  {
   "cell_type": "code",
   "execution_count": 10,
   "outputs": [],
   "source": [
    "Accuracy_weight = 0.5\n",
    "Experience_weight = 0.35\n",
    "Speed_weight = 0.15"
   ],
   "metadata": {
    "collapsed": false,
    "ExecuteTime": {
     "start_time": "2023-05-25T13:01:07.530289Z",
     "end_time": "2023-05-25T13:01:07.533393Z"
    }
   }
  },
  {
   "cell_type": "markdown",
   "source": [
    "### At last we calculate the final score"
   ],
   "metadata": {
    "collapsed": false
   }
  },
  {
   "cell_type": "code",
   "execution_count": 11,
   "outputs": [
    {
     "data": {
      "text/plain": "count    800.000000\nmean      51.334796\nstd        6.091534\nmin        0.000000\n25%       50.003201\n50%       50.025871\n75%       51.213075\nmax       95.769094\nName: FinalScore, dtype: float64"
     },
     "execution_count": 11,
     "metadata": {},
     "output_type": "execute_result"
    }
   ],
   "source": [
    "df_pivot['FinalScore'] = Accuracy_weight*df_pivot['Accuracy'] + Experience_weight*df_pivot['Experience_zscore_scaled'] + Speed_weight*df_pivot['Speed_zscore_scaled']\n",
    "df_pivot['FinalScore'].describe()"
   ],
   "metadata": {
    "collapsed": false,
    "ExecuteTime": {
     "start_time": "2023-05-25T13:03:04.700863Z",
     "end_time": "2023-05-25T13:03:04.714219Z"
    }
   }
  }
 ],
 "metadata": {
  "kernelspec": {
   "display_name": "Python 3",
   "language": "python",
   "name": "python3"
  },
  "language_info": {
   "codemirror_mode": {
    "name": "ipython",
    "version": 2
   },
   "file_extension": ".py",
   "mimetype": "text/x-python",
   "name": "python",
   "nbconvert_exporter": "python",
   "pygments_lexer": "ipython2",
   "version": "2.7.6"
  }
 },
 "nbformat": 4,
 "nbformat_minor": 0
}
